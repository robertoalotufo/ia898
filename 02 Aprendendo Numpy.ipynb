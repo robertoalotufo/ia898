{
 "cells": [
  {
   "cell_type": "markdown",
   "metadata": {
    "toc": "true"
   },
   "source": [
    "# Table of Contents\n",
    " <p><div class=\"lev1 toc-item\"><a href=\"#Meus-primeiros-programas-de-processamento-de-imagens-usando-Numpy\" data-toc-modified-id=\"Meus-primeiros-programas-de-processamento-de-imagens-usando-Numpy-1\"><span class=\"toc-item-num\">1&nbsp;&nbsp;</span>Meus primeiros programas de processamento de imagens usando Numpy</a></div><div class=\"lev2 toc-item\"><a href=\"#Aprendendo-a-programar-usando-o-NumPy\" data-toc-modified-id=\"Aprendendo-a-programar-usando-o-NumPy-11\"><span class=\"toc-item-num\">1.1&nbsp;&nbsp;</span>Aprendendo a programar usando o NumPy</a></div><div class=\"lev2 toc-item\"></div>"
   ]
  },
  {
   "cell_type": "markdown",
   "metadata": {},
   "source": [
    "# Meus primeiros programas de processamento de imagens usando Numpy\n",
    "\n",
    "Neste curso iremos explorar o pacote NumPy, que adicionou o tipo **ndarray** ao Python. Contrário a \n",
    "utilizar um pacote ou biblioteca específica de processamento de imagens, onde a imagem é uma classe\n",
    "específica, onde as funções são primordialmente utilizadas para processamento de imagens, iremos\n",
    "utilizar o ndarray do NumPy para representar nossa imagem.\n",
    "\n",
    "Neste curso, iremos praticar a programação do estilo matricial, isto é, procurando resolver o problema\n",
    "de forma matricial. Pretendemos com isto mostrar que este estilo de programação ajuda a reutilizar\n",
    "operações e manipulações matriciais conhecidas, aumenta a clareza do código, diminuindo o número de\n",
    "linhas e favorece a eficiência de execução visto a disponibilidade cada vez maior de hardware \n",
    "que processa operações vetoriais."
   ]
  },
  {
   "cell_type": "markdown",
   "metadata": {},
   "source": [
    "## Aprendendo a programar usando o NumPy\n",
    "\n",
    "Existem importantes conceitos e funções a serem aprendidas no NumPy e serão introduzidas aos poucos à medida\n",
    "que o curso evolui. Nesta semana, o foco é o uso de fatiamento(*slicing*). Para isto, são necessárias algumas leituras\n",
    "fundamentais:\n",
    "\n",
    "- [Organização do ndarray](../master/tutorial_numpy_1_1.ipynb)\n",
    "- [Fatiamento 1D do ndarray](../master/tutorial_numpy_1_2.ipynb) \n",
    "- [Fatiamento 2D do ndarray](../master/tutorial_numpy_1_3.ipynb) \n",
    "- [Cópia rasa e cópia profunda do ndarray](../master/tutorial_numpy_1_4.ipynb) \n",
    "- [Operações matriciais](tutorial_numpy_1_5.ipynb)\n"
   ]
  }
 ],
 "metadata": {
  "kernelspec": {
   "display_name": "Python 3",
   "language": "python",
   "name": "python3"
  },
  "language_info": {
   "codemirror_mode": {
    "name": "ipython",
    "version": 3
   },
   "file_extension": ".py",
   "mimetype": "text/x-python",
   "name": "python",
   "nbconvert_exporter": "python",
   "pygments_lexer": "ipython3",
   "version": "3.6.1"
  },
  "toc": {
   "colors": {
    "hover_highlight": "#DAA520",
    "running_highlight": "#FF0000",
    "selected_highlight": "#FFD700"
   },
   "moveMenuLeft": true,
   "nav_menu": {
    "height": "83px",
    "width": "252px"
   },
   "navigate_menu": true,
   "number_sections": true,
   "sideBar": true,
   "threshold": 4,
   "toc_cell": true,
   "toc_section_display": "block",
   "toc_window_display": false
  }
 },
 "nbformat": 4,
 "nbformat_minor": 2
}
