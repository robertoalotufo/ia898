{
  "cells": [
    {
      "cell_type": "markdown",
      "metadata": {
        "id": "view-in-github",
        "colab_type": "text"
      },
      "source": [
        "<a href=\"https://colab.research.google.com/github/robertoalotufo/ia898/blob/master/master/0_index.ipynb\" target=\"_parent\"><img src=\"https://colab.research.google.com/assets/colab-badge.svg\" alt=\"Open In Colab\"/></a>"
      ]
    },
    {
      "cell_type": "markdown",
      "metadata": {
        "collapsed": true,
        "id": "l3VqIF9m3lJc"
      },
      "source": [
        "# Tutoriais básicos sobre Jupyter, Python, NumPy, Matplotlib, Proc. Imagens\n",
        "\n",
        "Este diretório é composto de uma série de pequenos tutoriais básicos do Python e principalmente do NumPy, com aplicação à processamento de imagens."
      ]
    },
    {
      "cell_type": "markdown",
      "metadata": {
        "id": "S5werAup3lJc"
      },
      "source": [
        "## Jupyter\n",
        "\n",
        "- [Edição HTML](https://github.com/robertoalotufo/ia898/master/FerramentasdeEdicaoHTML.ipynb) - Ferramentas de edição multimídia, links, imagens, equações\n"
      ]
    },
    {
      "cell_type": "markdown",
      "metadata": {
        "id": "O1hLeW3z3lJc"
      },
      "source": [
        "## Python\n",
        "\n",
        "- [Python I - Tipos de variáveis](tutorial_python_1_1.ipynb)\n",
        "- [Python III - Declaração de funções](tutorial_python_1_3.ipynb)"
      ]
    },
    {
      "cell_type": "markdown",
      "metadata": {
        "id": "OvTHnA373lJc"
      },
      "source": [
        "## NumPy\n",
        "\n",
        "- [Chessboard](chess.ipynb) - Motivação sobre programação matricial NumPy versus programação com laço explícito\n",
        "- [Rampa_solucoes](Rampa_solucoes.ipynb) -\n",
        "- [one_hot](one_hot.ipynb) - Codificação one-hot, duas soluções\n",
        "- [NumPy - Introdução ao ndarray](tutorial_numpy_1_1.ipynb)\n",
        "- [Matplotlib](tutorial_matplotlib.ipynb)    \n",
        "- [NumPy - Formatando array para impressão](tutorial_numpy_1_11.ipynb) \n",
        "- [NumPy - Fatiamento array unidimensional](tutorial_numpy_1_2.ipynb)\n",
        "- [NumPy - Fatiamento em duas dimensões](tutorial_numpy_1_3.ipynb)\n",
        "- [NumPy - Cópia Rasa e Profunda](tutorial_numpy_1_4.ipynb)\n",
        "- [NumPy - Array Strides](Array-strides.ipynb)\n",
        "- [NumPy - Redução de eixo](tutorial_numpy_1_5a.ipynb)\n",
        "\n",
        "### Precisa ser melhorado\n",
        "- [NumPy - Uso do tile](tutorial_numpy_1_8.ipynb)\n",
        "- [NumPy - Uso do resize](tutorial_numpy_1_9.ipynb)\n",
        "- [NumPy - Uso do clip](tutorial_numpy_1_10.ipynb) "
      ]
    },
    {
      "cell_type": "markdown",
      "metadata": {
        "id": "NcnccXfa3lJd"
      },
      "source": [
        "## Revisão - Cálculo, Álgebra\n",
        "\n",
        "- [Revisão de Números Complexos](Revisao_NumerosComplexos.ipynb )"
      ]
    },
    {
      "cell_type": "markdown",
      "metadata": {
        "id": "zMud3jaw3lJd"
      },
      "source": [
        "## Processamento de Imagens\n",
        "\n",
        "- [Imagens - Representação, Leitura e Visualização](tutorial_img_ds.ipynb) \n",
        "- [Proc Imagens com Fatiamento](tutorial_1_imagens.ipynb)     \n",
        "- [NumPy - Indices e meshgrid para gerar imagens sintéticas](tutorial_numpy_1_7.ipynb)\n",
        "- [Histograma e Estatística](tutorial_hist__stat_2.ipynb) \n",
        "- [Transformação de Intensidade](tutorial_ti_2.ipynb)\n",
        "- [Equalização de histograma](tutorial_hist_eq_2.ipynb)\n",
        "- [Equalização por ordenação dos pixels](tutorial_pehist_1.ipynb)\n",
        "- [Especificação de histograma por ordenação dos pixels](tutorial_pehist_2.ipynb)\n",
        "- [Ajuste interativo de contraste](tutorial_contraste_iterativo_2.ipynb)\n",
        "- [Convolução](tutorial_conv_3.ipynb)\n",
        "- [Propriedades da convolução](tutorial_convprop_3.ipynb)\n",
        "- Propriedades da DFT\n",
        "- [Propriedade da escala (expansão) da DFT](dftscaleproperty.ipynb)\n",
        "- [Interpolação na expansão (análise no domínio da frequência](magnify.ipynb)\n",
        "- [Transforma Discreta de Wavelets](wavelets.ipynb)"
      ]
    },
    {
      "cell_type": "markdown",
      "metadata": {
        "id": "vBXACgny3lJe"
      },
      "source": [
        "## Necessitam ajustar para jupyter notebooks\n",
        "\n",
        "- [tutorial_trans_geom_intro_2.ipynb](tutorial_trans_geom_intro_2.ipynb)\n",
        "- [tutorial_ptrans.ipynb](tutorial_ptrans.ipynb)\n",
        "- [gengaussian.ipynb](gengaussian.ipynb )\n"
      ]
    },
    {
      "cell_type": "code",
      "execution_count": null,
      "metadata": {
        "ExecuteTime": {
          "end_time": "2017-04-30T08:12:01.837582",
          "start_time": "2017-04-30T08:12:01.666325"
        },
        "id": "zoVekiC-3lJe",
        "outputId": "204cbb3a-1749-4e76-86ac-c2b1cd2f08c5"
      },
      "outputs": [
        {
          "name": "stdout",
          "output_type": "stream",
          "text": [
            "0_index.ipynb                        tutorial_numpy_1_11.ipynb\r\n",
            "Array-strides.ipynb                  tutorial_numpy_1_2.ipynb\r\n",
            "Ferramentas de Edicao HTML.ipynb     tutorial_numpy_1_3.ipynb\r\n",
            "Revisao_NumerosComplexos.ipynb       tutorial_numpy_1_4.ipynb\r\n",
            "chess.ipynb                          tutorial_numpy_1_5a.ipynb\r\n",
            "gengaussian.ipynb                    tutorial_numpy_1_7.ipynb\r\n",
            "tutorial_1_imagens.ipynb             tutorial_numpy_1_8.ipynb\r\n",
            "tutorial_contraste_iterativo_2.ipynb tutorial_numpy_1_9.ipynb\r\n",
            "tutorial_conv_3.ipynb                tutorial_pehist_1.ipynb\r\n",
            "tutorial_convprop_3.ipynb            tutorial_pehist_2.ipynb\r\n",
            "tutorial_hist__stat_2.ipynb          tutorial_ptrans.ipynb\r\n",
            "tutorial_hist_eq_2.ipynb             tutorial_python_1_1.ipynb\r\n",
            "tutorial_img_ds.ipynb                tutorial_python_1_3.ipynb\r\n",
            "tutorial_matplotlib.ipynb            tutorial_ti_2.ipynb\r\n",
            "tutorial_numpy_1_1.ipynb             tutorial_trans_geom_intro_2.ipynb\r\n",
            "tutorial_numpy_1_10.ipynb\r\n"
          ]
        }
      ],
      "source": [
        "!ls"
      ]
    }
  ],
  "metadata": {
    "anaconda-cloud": {},
    "kernelspec": {
      "display_name": "Python 3",
      "language": "python",
      "name": "python3"
    },
    "language_info": {
      "codemirror_mode": {
        "name": "ipython",
        "version": 3
      },
      "file_extension": ".py",
      "mimetype": "text/x-python",
      "name": "python",
      "nbconvert_exporter": "python",
      "pygments_lexer": "ipython3",
      "version": "3.6.0"
    },
    "latex_envs": {
      "LaTeX_envs_menu_present": true,
      "bibliofile": "biblio.bib",
      "cite_by": "apalike",
      "current_citInitial": 1,
      "eqLabelWithNumbers": true,
      "eqNumInitial": 1,
      "hotkeys": {
        "equation": "Ctrl-E",
        "itemize": "Ctrl-I"
      },
      "labels_anchors": false,
      "latex_user_defs": false,
      "report_style_numbering": false,
      "user_envs_cfg": false
    },
    "toc": {
      "nav_menu": {
        "height": "45px",
        "width": "252px"
      },
      "number_sections": true,
      "sideBar": true,
      "skip_h1_title": false,
      "toc_cell": true,
      "toc_position": {},
      "toc_section_display": "block",
      "toc_window_display": false
    },
    "colab": {
      "name": "0_index.ipynb",
      "provenance": [],
      "include_colab_link": true
    }
  },
  "nbformat": 4,
  "nbformat_minor": 0
}