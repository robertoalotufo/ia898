{
 "cells": [
  {
   "cell_type": "markdown",
   "metadata": {
    "toc": "true"
   },
   "source": [
    "# Table of Contents\n",
    " <p><div class=\"lev1 toc-item\"><a href=\"#Jupyter-Notebook:-Ferramentas-de-edição-multimídia\" data-toc-modified-id=\"Jupyter-Notebook:-Ferramentas-de-edição-multimídia-1\"><span class=\"toc-item-num\">1&nbsp;&nbsp;</span>Jupyter Notebook: Ferramentas de edição multimídia</a></div><div class=\"lev2 toc-item\"><a href=\"#Títulos-e-subtítulos\" data-toc-modified-id=\"Títulos-e-subtítulos-11\"><span class=\"toc-item-num\">1.1&nbsp;&nbsp;</span>Títulos e subtítulos</a></div><div class=\"lev3 toc-item\"><a href=\"#Subtítulo-de-terceiro-nível\" data-toc-modified-id=\"Subtítulo-de-terceiro-nível-111\"><span class=\"toc-item-num\">1.1.1&nbsp;&nbsp;</span>Subtítulo de terceiro nível</a></div><div class=\"lev4 toc-item\"><a href=\"#Subítulo-de-quarto-nível\" data-toc-modified-id=\"Subítulo-de-quarto-nível-1111\"><span class=\"toc-item-num\">1.1.1.1&nbsp;&nbsp;</span>Subítulo de quarto nível</a></div><div class=\"lev2 toc-item\"><a href=\"#Negrito,-itálico-e-literal\" data-toc-modified-id=\"Negrito,-itálico-e-literal-12\"><span class=\"toc-item-num\">1.2&nbsp;&nbsp;</span>Negrito, itálico e literal</a></div><div class=\"lev2 toc-item\"><a href=\"#Texto-colorido\" data-toc-modified-id=\"Texto-colorido-13\"><span class=\"toc-item-num\">1.3&nbsp;&nbsp;</span>Texto colorido</a></div><div class=\"lev2 toc-item\"><a href=\"#Colocando-links-Internet\" data-toc-modified-id=\"Colocando-links-Internet-14\"><span class=\"toc-item-num\">1.4&nbsp;&nbsp;</span>Colocando links Internet</a></div><div class=\"lev2 toc-item\"><a href=\"#Itemização-de-texto\" data-toc-modified-id=\"Itemização-de-texto-15\"><span class=\"toc-item-num\">1.5&nbsp;&nbsp;</span>Itemização de texto</a></div><div class=\"lev2 toc-item\"><a href=\"#Linha-de-separação\" data-toc-modified-id=\"Linha-de-separação-16\"><span class=\"toc-item-num\">1.6&nbsp;&nbsp;</span>Linha de separação</a></div><div class=\"lev2 toc-item\"><a href=\"#Equações-LaTeX\" data-toc-modified-id=\"Equações-LaTeX-17\"><span class=\"toc-item-num\">1.7&nbsp;&nbsp;</span>Equações LaTeX</a></div><div class=\"lev2 toc-item\"><a href=\"#Mostrando-imagens-na-célula-markdown\" data-toc-modified-id=\"Mostrando-imagens-na-célula-markdown-18\"><span class=\"toc-item-num\">1.8&nbsp;&nbsp;</span>Mostrando imagens na célula markdown</a></div><div class=\"lev3 toc-item\"><a href=\"#Na-forma-de-link-HTML\" data-toc-modified-id=\"Na-forma-de-link-HTML-181\"><span class=\"toc-item-num\">1.8.1&nbsp;&nbsp;</span>Na forma de link HTML</a></div><div class=\"lev3 toc-item\"><a href=\"#Na-forma-de-link-Jupyter\" data-toc-modified-id=\"Na-forma-de-link-Jupyter-182\"><span class=\"toc-item-num\">1.8.2&nbsp;&nbsp;</span>Na forma de link Jupyter</a></div><div class=\"lev2 toc-item\"><a href=\"#Inserindo-vídeo-e-website\" data-toc-modified-id=\"Inserindo-vídeo-e-website-19\"><span class=\"toc-item-num\">1.9&nbsp;&nbsp;</span>Inserindo vídeo e website</a></div><div class=\"lev2 toc-item\"><a href=\"#Forma-de-baixar-um-arquivo-de-dados-para-computador-local\" data-toc-modified-id=\"Forma-de-baixar-um-arquivo-de-dados-para-computador-local-110\"><span class=\"toc-item-num\">1.10&nbsp;&nbsp;</span>Forma de baixar um arquivo de dados para computador local</a></div>"
   ]
  },
  {
   "cell_type": "markdown",
   "metadata": {},
   "source": [
    "# Jupyter Notebook: Ferramentas de edição multimídia \n",
    "\n",
    "Este documento ilustra as principais ferramentas para editar o notebook, utilizando células de texto Markdown:"
   ]
  },
  {
   "cell_type": "code",
   "execution_count": 5,
   "metadata": {
    "ExecuteTime": {
     "end_time": "2017-05-14T20:16:52.777613",
     "start_time": "2017-05-14T20:16:52.771536"
    },
    "collapsed": false
   },
   "outputs": [
    {
     "data": {
      "text/html": [
       "<style>.container { width:95% !important; }</style>"
      ],
      "text/plain": [
       "<IPython.core.display.HTML object>"
      ]
     },
     "metadata": {},
     "output_type": "display_data"
    }
   ],
   "source": [
    "# Ajuste de largura do notebook no display\n",
    "from IPython.core.display import display, HTML\n",
    "display(HTML(\"<style>.container { width:95% !important; }</style>\"))"
   ]
  },
  {
   "cell_type": "markdown",
   "metadata": {},
   "source": [
    "## Títulos e subtítulos\n",
    "\n",
    "Títulos e subtítulos são colocados com #, ##, ### ou mais # como a seguir\n",
    "\n",
    "### Subtítulo de terceiro nível\n",
    "#### Subítulo de quarto nível"
   ]
  },
  {
   "cell_type": "markdown",
   "metadata": {},
   "source": [
    "## Negrito, itálico e literal\n",
    "\n",
    "Negrito coloca-se com dois asteriscos. Por exemplo:\n",
    "- o texto `**Este texto em negrito**` fica  ** Este texto em negrito **\n",
    "\n",
    "O texto em Itálico é utilizado com apenas um asterisco. Por exemplo \n",
    "- o texto `*Este texto em itálico*` aparece *Este texto em itálico*\n",
    "\n",
    "Para mostrar um texto original (*verbatim*) usa-se texto separado por crases. Por exemplo \n",
    "- este texto aparece com espaçamento fixo: `Este é um texto cru`\n",
    "\n",
    "Pode-se criar um bloco de texto original usando linhas com três crases:\n",
    "```\n",
    "Este é um bloco literal\n",
    " Os espaçamentos   são preservados,\n",
    " {assim como <<<[] } os caracteres especiais não têm significado\n",
    " ```\n"
   ]
  },
  {
   "cell_type": "markdown",
   "metadata": {},
   "source": [
    "## Texto colorido\n",
    "\n",
    "Forma simples de criar texto colorido é utilizando sintaxe do HTML: \n",
    "- escrevendo-se `<code style=\"color:red\">vermelho</code>`, o texto aparece como <code style=\"color:red\">vermelho</code>  "
   ]
  },
  {
   "cell_type": "markdown",
   "metadata": {},
   "source": [
    "## Colocando links Internet \n",
    "\n",
    "Coloca-se `[Link para divulgação curso DL](http://adessowiki.fee.unicamp.br/rnpi)`\n",
    "\n",
    "Veja como aparece: [Link para divulgação curso DL](http://adessowiki.fee.unicamp.br/rnpi)\n",
    "\n",
    "Fazendo um link para uma seção dentro do próprio notebook. Utiliza-se o link usando-se a sintaxe do HTML para referências dentro de arquivo. Lembrar de trocar os espaços dos subtítulos por traço.\n",
    "Por exemplo:\n",
    "\n",
    "``Link para [Negrito e itálico](#Negrito-e-itálico)``  fica\n",
    "\n",
    "\n",
    "Link para [Negrito, itálico e cru](#Negrito,-itálico-e-cru)\n"
   ]
  },
  {
   "cell_type": "markdown",
   "metadata": {},
   "source": [
    "## Itemização de texto\n",
    "\n",
    "A itemização utiliza caracteres como `-, *` e números. Para criar itens aninhados, utiliza-se um afastamento maior. Veja estes exemplos:\n",
    "\n",
    "* item 1\n",
    "  * item 1.1\n",
    "* item 2"
   ]
  },
  {
   "cell_type": "markdown",
   "metadata": {},
   "source": [
    "Itemização numérica\n",
    "\n",
    "1. item 1\n",
    "   2. item 1.a \n",
    "   este texto pertence ao item 1.a\n",
    "3. item 2"
   ]
  },
  {
   "cell_type": "markdown",
   "metadata": {},
   "source": [
    "## Linha de separação\n",
    "\n",
    "Uma linha de separação é feita colocando-se três caracteres `_` no começo de uma linha:\n",
    "___"
   ]
  },
  {
   "cell_type": "markdown",
   "metadata": {
    "collapsed": true
   },
   "source": [
    "## Equações LaTeX\n",
    "\n",
    "Equações LaTeX podem ser inseridas com o caractere \\$, de forma *in line*: $ a = \\sum i $ ou de forma destacada:\n",
    "\n",
    "$$ A = \\sum_{i=0}^{n-1} a_i $$"
   ]
  },
  {
   "cell_type": "markdown",
   "metadata": {},
   "source": [
    "## Mostrando imagens na célula markdown"
   ]
  },
  {
   "cell_type": "markdown",
   "metadata": {},
   "source": [
    "As imagens gravadas em disco em disponíveis na Internet podem ser mostradas tanto como elementos HTML usando `<img src= link>` como um link jupyter especial para a image utilizando o caracter `!`. No primeiro caso, a vantagem é que se tem um maior controle do seu posicionamento e dimensão.\n",
    "\n",
    "### Na forma de link HTML\n",
    "\n",
    "No primeiro exemplo a seguir, é utilizado uma imagem com a largura de 256 pontos `<img src=link, width=256>`: \n",
    "<img src=\"https://lh5.googleusercontent.com/-4z1aOb-x0Co/AAAAAAAAAAI/AAAAAAAADXc/sAeBMo6pz_k/photo.jpg\",width=256>\n",
    "\n",
    "### Na forma de link Jupyter\n",
    "\n",
    "Já esta outra imagem, é mostrada como um link do IPython no formato `![texto](link)`:\n",
    "\n",
    "![Unicamp](http://www.ft.unicamp.br/docentes/magic/khoros/html-dip/c6/s2/lenina.gif)"
   ]
  },
  {
   "cell_type": "markdown",
   "metadata": {},
   "source": [
    "## Inserindo vídeo e website\n",
    "\n",
    "A inserção de vídeo e website somente na célula de programação Python. O display do IPython possui aplicação específica para importar vídeos do YouTube:"
   ]
  },
  {
   "cell_type": "code",
   "execution_count": 1,
   "metadata": {
    "ExecuteTime": {
     "end_time": "2017-04-30T07:59:01.485899",
     "start_time": "2017-04-30T07:59:01.205061"
    },
    "collapsed": false
   },
   "outputs": [
    {
     "data": {
      "image/jpeg": "[encoded data removed]",
      "text/html": [
       "\n",
       "        <iframe\n",
       "            width=\"400\"\n",
       "            height=\"300\"\n",
       "            src=\"https://www.youtube.com/embed/1j_HxD4iLn8\"\n",
       "            frameborder=\"0\"\n",
       "            allowfullscreen\n",
       "        ></iframe>\n",
       "        "
      ],
      "text/plain": [
       "<IPython.lib.display.YouTubeVideo at 0x1030f1668>"
      ]
     },
     "execution_count": 1,
     "metadata": {},
     "output_type": "execute_result"
    }
   ],
   "source": [
    "from IPython.display import YouTubeVideo\n",
    "# a talk about IPython at Sage Days at U. Washington, Seattle.\n",
    "# Video credit: William Stein.\n",
    "YouTubeVideo('1j_HxD4iLn8')"
   ]
  },
  {
   "cell_type": "markdown",
   "metadata": {},
   "source": [
    "Para inserir website, o display do IPython tem suporte para mostrar um IFrame, onde é possível colocar o endereço de um website:"
   ]
  },
  {
   "cell_type": "code",
   "execution_count": 3,
   "metadata": {
    "ExecuteTime": {
     "end_time": "2017-04-30T08:01:27.884223",
     "start_time": "2017-04-30T08:01:27.878730"
    },
    "collapsed": false
   },
   "outputs": [
    {
     "data": {
      "text/html": [
       "\n",
       "        <iframe\n",
       "            width=\"700\"\n",
       "            height=\"350\"\n",
       "            src=\"http://wikipedia.com\"\n",
       "            frameborder=\"0\"\n",
       "            allowfullscreen\n",
       "        ></iframe>\n",
       "        "
      ],
      "text/plain": [
       "<IPython.lib.display.IFrame at 0x103313cf8>"
      ]
     },
     "execution_count": 3,
     "metadata": {},
     "output_type": "execute_result"
    }
   ],
   "source": [
    "from IPython.display import IFrame\n",
    "IFrame('http://wikipedia.com', width=700, height=350)"
   ]
  },
  {
   "cell_type": "markdown",
   "metadata": {},
   "source": [
    "## Forma de baixar um arquivo de dados para computador local\n",
    "\n",
    "Uma forma simples de transferir um arquivo gerado pelo Jupyter no servidor para seu computador local é zipá-lo usando o comando gzip do linux e criar um link para ele. Como a extensão será gz quando se clica, o navegador faz o download do arquivo para seu computador local.\n",
    "\n",
    "Colocar numa célula de código:\n",
    "```\n",
    "!gzip <nome do arquivo>\n",
    "```\n",
    "\n",
    "Colocar numa célula Markdown:\n",
    "```\n",
    "[link para download](<nome do arquivo>.gz)\n",
    "```"
   ]
  }
 ],
 "metadata": {
  "anaconda-cloud": {},
  "kernelspec": {
   "display_name": "Python 3",
   "language": "python",
   "name": "python3"
  },
  "language_info": {
   "codemirror_mode": {
    "name": "ipython",
    "version": 3
   },
   "file_extension": ".py",
   "mimetype": "text/x-python",
   "name": "python",
   "nbconvert_exporter": "python",
   "pygments_lexer": "ipython3",
   "version": "3.6.0"
  },
  "toc": {
   "colors": {
    "hover_highlight": "#DAA520",
    "running_highlight": "#FF0000",
    "selected_highlight": "#FFD700"
   },
   "moveMenuLeft": true,
   "nav_menu": {
    "height": "243px",
    "width": "252px"
   },
   "navigate_menu": true,
   "number_sections": true,
   "sideBar": true,
   "threshold": 4,
   "toc_cell": true,
   "toc_position": {
    "height": "740px",
    "left": "0px",
    "right": "1227.01px",
    "top": "105px",
    "width": "213px"
   },
   "toc_section_display": "block",
   "toc_window_display": false
  }
 },
 "nbformat": 4,
 "nbformat_minor": 1
}
