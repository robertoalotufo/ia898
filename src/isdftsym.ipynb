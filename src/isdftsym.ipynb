{
 "cells": [
  {
   "cell_type": "markdown",
   "metadata": {
    "deletable": true,
    "editable": true
   },
   "source": [
    "# Function isdftsym\n",
    "\n",
    "\n",
    "## Description\n",
    "Check if the input image is symmetric and return a boolean value. \n",
    "\n",
    "## Synopse\n",
    "\n",
    "Check for conjugate symmetry\n",
    "\n",
    "- **b = isdftsym(F)**\n",
    "\n",
    "  - **b**: Boolean. \n",
    "  - **F**: Image. Complex image.\n",
    "\n",
    "## Function Code"
   ]
  },
  {
   "cell_type": "code",
   "execution_count": 18,
   "metadata": {
    "collapsed": true,
    "deletable": true,
    "editable": true
   },
   "outputs": [],
   "source": [
    "import numpy as np\n",
    "\n",
    "def isdftsym(F):\n",
    "\n",
    "    if len(F.shape) == 1: F = F[np.newaxis,np.newaxis,:] \n",
    "    if len(F.shape) == 2: F = F[np.newaxis,:,:] \n",
    "\n",
    "    n,m,p = F.shape\n",
    "    x,y,z = np.indices((n,m,p))\n",
    "\n",
    "    Xnovo = np.mod(-1*x,n) \n",
    "    Ynovo = np.mod(-1*y,m)\n",
    "    Znovo = np.mod(-1*z,p)  \n",
    "\n",
    "    aux = np.conjugate(F[Xnovo,Ynovo,Znovo])\n",
    "\n",
    "    return (abs(F-aux)<10E-4).all()"
   ]
  },
  {
   "cell_type": "code",
   "execution_count": 19,
   "metadata": {
    "collapsed": false,
    "deletable": true,
    "editable": true
   },
   "outputs": [
    {
     "name": "stdout",
     "output_type": "stream",
     "text": [
      "[NbConvertApp] Converting notebook isdftsym.ipynb to python\n",
      "[NbConvertApp] Writing 4022 bytes to isdftsym.py\n"
     ]
    }
   ],
   "source": [
    "testing = (__name__ == \"__main__\")\n",
    "if testing:\n",
    "    import numpy as np\n",
    "    import sys,os\n",
    "    ! jupyter nbconvert --to 'python' isdftsym\n",
    "    %matplotlib inline\n",
    "    import matplotlib.image as mpimg\n",
    "    import matplotlib.pyplot as plt\n",
    "    ia898path = os.path.abspath('/home/lotufo')\n",
    "    if ia898path not in sys.path:\n",
    "        sys.path.append(ia898path)\n",
    "    import ia898.src as ia"
   ]
  },
  {
   "cell_type": "markdown",
   "metadata": {
    "deletable": true,
    "editable": true
   },
   "source": [
    "## Examples\n",
    "\n",
    "\n",
    "Numeric Example: 1D data"
   ]
  },
  {
   "cell_type": "code",
   "execution_count": 20,
   "metadata": {
    "collapsed": false,
    "deletable": true,
    "editable": true
   },
   "outputs": [
    {
     "name": "stdout",
     "output_type": "stream",
     "text": [
      "Is 1d odd dimension vetor symmetric? False \n",
      "\n",
      "Is 1d even dimension vetor symmetric? False \n",
      "\n",
      "Is 1d even dimension vetor symmetric? False \n",
      "\n"
     ]
    }
   ],
   "source": [
    "if testing:\n",
    "    F = np.arange(5)\n",
    "    print ('Is 1d odd dimension vetor symmetric?',isdftsym(F),'\\n')\n",
    "    F =  np.arange(6)\n",
    "    print ('Is 1d even dimension vetor symmetric?',isdftsym(F),'\\n')\n",
    "    F = np.array( [1j,1j,0,1j,1j] )\n",
    "    print ('Is 1d even dimension vetor symmetric?',isdftsym(F),'\\n')"
   ]
  },
  {
   "cell_type": "markdown",
   "metadata": {
    "deletable": true,
    "editable": true
   },
   "source": [
    "Numeric Example: real matrix"
   ]
  },
  {
   "cell_type": "code",
   "execution_count": 21,
   "metadata": {
    "collapsed": false,
    "deletable": true,
    "editable": true
   },
   "outputs": [
    {
     "name": "stdout",
     "output_type": "stream",
     "text": [
      "Is function F symmetric? True \n",
      "\n"
     ]
    }
   ],
   "source": [
    "if testing:\n",
    "    F = np.array( [ [0,1], \n",
    "                    [2,3] ] )\n",
    "    print ('Is function F symmetric?',isdftsym(F),'\\n')"
   ]
  },
  {
   "cell_type": "markdown",
   "metadata": {
    "deletable": true,
    "editable": true
   },
   "source": [
    "Numeric Example: imaginary matrix"
   ]
  },
  {
   "cell_type": "code",
   "execution_count": 22,
   "metadata": {
    "collapsed": false,
    "deletable": true,
    "editable": true
   },
   "outputs": [
    {
     "name": "stdout",
     "output_type": "stream",
     "text": [
      "Is function F symmetric? False \n",
      "\n",
      "Is function F symmetric? False \n",
      "\n"
     ]
    }
   ],
   "source": [
    "if testing:\n",
    "    F = np.array([ [2j,1j], \n",
    "                   [1j,2j] ] )\n",
    "    print('Is function F symmetric?',isdftsym(F),'\\n')\n",
    "\n",
    "    F = np.array( [ [ 2j,0, 1j], \n",
    "                    [-1j,0,-2j] ] )\n",
    "    print('Is function F symmetric?',isdftsym(F),'\\n')"
   ]
  },
  {
   "cell_type": "markdown",
   "metadata": {
    "deletable": true,
    "editable": true
   },
   "source": [
    "Numeric Example: complex matrix"
   ]
  },
  {
   "cell_type": "code",
   "execution_count": 23,
   "metadata": {
    "collapsed": false,
    "deletable": true,
    "editable": true
   },
   "outputs": [
    {
     "name": "stdout",
     "output_type": "stream",
     "text": [
      "F=\n",
      " [[ 10.+0.j  20.+5.j  20.-5.j]\n",
      " [ 40.+3.j  60.+2.j  70.+4.j]\n",
      " [ 30.+0.j  50.+2.j  50.-2.j]\n",
      " [ 40.-3.j  70.-4.j  60.-2.j]]\n",
      "if F symmetrical? True\n"
     ]
    }
   ],
   "source": [
    "if testing:\n",
    "    F = np.array([[10+0j,20+5j,20-5j],\n",
    "                  [40+3j,60+2j,70+4j],\n",
    "                  [30+0j,50+2j,50-2j],\n",
    "                  [40-3j,70-4j,60-2j]])\n",
    "    print('F=\\n',F)\n",
    "    print('if F symmetrical?', isdftsym(F))"
   ]
  },
  {
   "cell_type": "markdown",
   "metadata": {
    "deletable": true,
    "editable": true
   },
   "source": [
    "Numeric Example: Fourier transformation of a real image is symmetric"
   ]
  },
  {
   "cell_type": "code",
   "execution_count": 24,
   "metadata": {
    "collapsed": false,
    "deletable": true,
    "editable": true
   },
   "outputs": [
    {
     "name": "stdout",
     "output_type": "stream",
     "text": [
      "Is this function symmetric?\n",
      "True\n",
      "True\n",
      "True\n"
     ]
    }
   ],
   "source": [
    "if testing:\n",
    "    print('Is this function symmetric?')\n",
    "    print(isdftsym(np.fft.fft2(np.random.rand(100,100)))) # dimension variation\n",
    "    print(isdftsym(np.fft.fft2(np.random.rand(101,100))))\n",
    "    print(isdftsym(np.fft.fft2(np.random.rand(101,101))))"
   ]
  },
  {
   "cell_type": "markdown",
   "metadata": {
    "deletable": true,
    "editable": true
   },
   "source": [
    "Image Example: circular filter"
   ]
  },
  {
   "cell_type": "code",
   "execution_count": 25,
   "metadata": {
    "collapsed": false,
    "deletable": true,
    "editable": true
   },
   "outputs": [
    {
     "name": "stdout",
     "output_type": "stream",
     "text": [
      "Is this filter symmetric? True\n"
     ]
    },
    {
     "data": {
      "text/html": [
       "<head><style>                table, th, td { border: 0px solid black;                text-align: center;border-collapse: collapse;}</style></head>                <body><table border=\"0\"><tr><td>                    <table><tr><td><img src='data:image/png;base64,iVBORw0KGgoAAAANSUhEUgAAAQAAAAEACAAAAAB5Gfe6AAACWUlEQVR4nO3awU4cQQwE0B7+/5+XQ6QAy0y3vRJ43Lx3yqFXqap4UQ4cj5F25D/yW/Jt3vJ/yY37v5DthQH2YoDqANUMUB2gmgGqA1QzQPoTd/5/0AvpXEB1gGoGqA5QLT3AvX8G5vO5gOoA1bID3P0bkE7oAnLP738A2YwuIPW6wwEkU7qAzOMeB5DL6QISb7scQCqpC4g/7XMAmazxATr1T6T1FYg+7HUA8bzRAbr1DycODtCvfzRzbICO/YOpQwP07B/LHRmga/9Q8sAAfftHsq8H6Nw/kH45QO/+6/yrAbr3XzY4pr9a2L/+GGP+65PTC9ik/7TH5AJ2qT/GmBzB5QBb1R/jcoKLAbarP8bFBKcDbFl/jNMJTgbYtv4YJxM8D7B1+3++Nv40wB/o/uFx8icAAAAAAAAAAAAAAAAAAAAAAAAAAAAAAAAAAAAAAAAAAAAAAAAAAOAnPaoDFDs+BjgKY/y6/7WPpwv4Ayt8bfw8wNh8g291TwbYeIKTsqcDbDrBadWLATac4KLo5QCbTXBZczLARhNMSr69+LlWpv/Ii5IbHMG84fQClp/uYNFgNUD7BVb5lwM0X2CZfj1A6wXW2QMDNF4gkDwyQNsFIrlDAzRdIJQ6NkDLBWKZgwM0XCCYODpAuwWiecMD7Co+QK8TCKdNXECnBeJZfQUSb/ucQCKpC8g87nICmZwuIPW6xwmkUrqA3PMOJ5DL6AKS7+9/AsmELqA6QLX0AHf/DmTzuYDqANUMUB2gWn6Ae/8UTKdzAdUBqhmgOkA1A1QHqGaA6gDV3gGIF06j9uGm+wAAAABJRU5ErkJggg=='/></td></tr>                    <tr><td align='center'>circular filter</td></tr></table></td><td>                    <table><tr><td><img src='data:image/png;base64,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'/></td></tr>                    <tr><td align='center'></td></tr></table></td><tr></tr></table></body>"
      ],
      "text/plain": [
       "<IPython.core.display.HTML object>"
      ]
     },
     "metadata": {},
     "output_type": "display_data"
    }
   ],
   "source": [
    "if testing:\n",
    "    img = mpimg.imread('/home/lotufo/ia898/data/cameraman.tif')\n",
    "    F = np.fft.fftn(img)\n",
    "    r1,c1 = np.indices(img.shape)\n",
    "    imgc = ((r1-img.shape[0]/2)**2/(50)**2) + ((c1-img.shape[1]/2)**2/(50)**2) <= 1\n",
    "    imgct = ia.ptrans(imgc, (imgc.shape[0]//2, imgc.shape[1]//2))\n",
    "    nb = ia.nbshow(2)\n",
    "    nb.nbshow(ia.normalize(imgct),'circular filter')\n",
    "    res = F * imgct\n",
    "    nb.nbshow(ia.dftview(res))\n",
    "    print('Is this filter symmetric?', isdftsym(res))\n",
    "    nb.nbshow()"
   ]
  },
  {
   "cell_type": "markdown",
   "metadata": {
    "deletable": true,
    "editable": true
   },
   "source": [
    "Image Example 2: retangular filter"
   ]
  },
  {
   "cell_type": "code",
   "execution_count": 26,
   "metadata": {
    "collapsed": false,
    "deletable": true,
    "editable": true
   },
   "outputs": [
    {
     "data": {
      "text/html": [
       "<head><style>                table, th, td { border: 0px solid black;                text-align: center;border-collapse: collapse;}</style></head>                <body><table border=\"0\"><tr><td>                    <table><tr><td><img src='data:image/png;base64,iVBORw0KGgoAAAANSUhEUgAAAQAAAAEACAAAAAB5Gfe6AAABH0lEQVR4nO3Q0QmAQAwFQc/+e9YaAp6LOPMf2Lx1HVNrfPGe+TfnhopPMUAdUDNAHVAzQB1QM0AdUDNAHVAzQB1QM0AdUDNAHVAzQB1QM0AdUDNAHVAzQB1QM0AdUDNAHVAzQB1QM0AdUDNAHVAzQB1QM0AdUDNAHVAzQB1QM0AdUDNAHVAzQB0AAAAAAAAAAAAAAAAAAAAAAAAAAAAAAAAAAAAAAAAAAAAAAAAAAAD8w7rmJxsynjL/5txQ8SkGqANqBqgDagaoA2oGqANqBqgDagaoA2oGqANqBqgDagaoA2oGqANqBqgDagaoA2oGqANqBqgDagaoA2oGqANqBqgDagaoA2oGqANqBqgDagaoA2oGqANqBqgDagaoA2o3UfIExe3eVikAAAAASUVORK5CYII='/></td></tr>                    <tr><td align='center'>RETANGULO</td></tr></table></td><td>                    <table><tr><td><img src='data:image/png;base64,iVBORw0KGgoAAAANSUhEUgAAAQAAAAEACAAAAAB5Gfe6AAABGUlEQVR4nO3QwQnAMBADQTv995w04E/gYDHMFCAWrQUAAAAAAAAAAAAAAAAAAAAAAADAffbs3Ds7dzSb/IyuXcgBdUDNAXVAzQF1QM0BdUDNAXVAzQF1QM0BdUDNAXVAzQF1QM0BdUDNAXVAzQF1QM0BdUDNAXVAzQF1QM0BdUDNAXVAzQF1QM0BdUDNAXVAzQF1QM0BdUDNAXVAzQF1QM0BdUDNAXVAzQF1QM0BdUDNAXVAzQF1QM0BdUDNAXVAzQF1QM0BdUDNAXVAzQF1QM0BdUDNAXVAzQF1QM0BdUDNAXVAzQF1QM0BdUDNAXVAzQF1QM0BdUDNAXVAzQF1QM0BdQAAAAAAAAAAAAAAAAAAAAAAAAAA/PcBiacByJY67m0AAAAASUVORK5CYII='/></td></tr>                    <tr><td align='center'>retangular filter</td></tr></table></td><td>                    <table><tr><td><img src='data:image/png;base64,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'/></td></tr>                    <tr><td align='center'>Filtered image</td></tr></table></td><tr></tr></table></body>"
      ],
      "text/plain": [
       "<IPython.core.display.HTML object>"
      ]
     },
     "metadata": {},
     "output_type": "display_data"
    },
    {
     "name": "stdout",
     "output_type": "stream",
     "text": [
      "Is this filter symmetric? False\n"
     ]
    }
   ],
   "source": [
    "if testing:\n",
    "    mquadra = np.zeros_like(img)\n",
    "    mquadra[:50,:50] = 1\n",
    "    mquadra[-50:,:50] = 1\n",
    "    mquadra[:50,-50:] = 1\n",
    "    mquadra[-50:,-50:] = 1\n",
    "\n",
    "    nb = ia.nbshow(3)\n",
    "    nb.nbshow(ia.normalize(mquadra),'RETANGULO')\n",
    "    mquadra = ia.ptrans(mquadra, (mquadra.shape[0]//2,mquadra.shape[1]//2))\n",
    "    nb.nbshow(ia.normalize(mquadra),'retangular filter')\n",
    "    mfiltrada = F * mquadra\n",
    "    mfiltrada_t = ia.ptrans(mfiltrada, (mfiltrada.shape[0]//2,mfiltrada.shape[1]//2))\n",
    "    nb.nbshow(ia.dftview(mfiltrada_t), 'Filtered image')\n",
    "    nb.nbshow()\n",
    "    print('Is this filter symmetric?', isdftsym(mfiltrada_t))"
   ]
  },
  {
   "cell_type": "markdown",
   "metadata": {
    "deletable": true,
    "editable": true
   },
   "source": [
    "Equation"
   ]
  },
  {
   "cell_type": "markdown",
   "metadata": {
    "deletable": true,
    "editable": true
   },
   "source": [
    "$$ \\begin{matrix}\n",
    "   F(s,u,v) = F^{\\star}(-s \\ mod\\ P,-u \\ mod\\ N, -v \\ mod\\ M) \\\\ (0,0,0) \\leq (s,u,v) < (P,N,M)\n",
    "   \\end{matrix}\n",
    "$$"
   ]
  },
  {
   "cell_type": "markdown",
   "metadata": {
    "deletable": true,
    "editable": true
   },
   "source": [
    "## See also\n",
    "\n",
    "- `dftview`\n",
    "\n",
    "## Contributions\n",
    "\n",
    "- Mariana Pinheiro, 1st semester 2011\n",
    "- Leonardo Bianconi, 1st semester 2017"
   ]
  }
 ],
 "metadata": {
  "kernelspec": {
   "display_name": "Python 3",
   "language": "python",
   "name": "python3"
  },
  "language_info": {
   "codemirror_mode": {
    "name": "ipython",
    "version": 3
   },
   "file_extension": ".py",
   "mimetype": "text/x-python",
   "name": "python",
   "nbconvert_exporter": "python",
   "pygments_lexer": "ipython3",
   "version": "3.6.0"
  }
 },
 "nbformat": 4,
 "nbformat_minor": 2
}
