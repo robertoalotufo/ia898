{
 "cells": [
  {
   "cell_type": "markdown",
   "metadata": {
    "deletable": true,
    "editable": true
   },
   "source": [
    "# Function iaisdftsym\n",
    "\n",
    "\n",
    "## Description\n",
    "Check if the input image is symmetric and return a boolean value. \n",
    "\n",
    "## Synopse\n",
    "\n",
    "Check for conjugate symmetry\n",
    "\n",
    "- **b = iaisdftsym(F)**\n",
    "\n",
    "  - **b**: Boolean. \n",
    "  - **F**: Image. Complex image.\n",
    "\n",
    "## Function Code"
   ]
  },
  {
   "cell_type": "code",
   "execution_count": 6,
   "metadata": {
    "collapsed": true,
    "deletable": true,
    "editable": true
   },
   "outputs": [],
   "source": [
    "import numpy as np\n",
    "\n",
    "def iaisdftsym(F):\n",
    "\n",
    "    if len(F.shape) == 1: F = F[np.newaxis,np.newaxis,:] \n",
    "    if len(F.shape) == 2: F = F[np.newaxis,:,:] \n",
    "\n",
    "    n,m,p = F.shape\n",
    "    x,y,z = np.indices((n,m,p))\n",
    "\n",
    "    Xnovo = np.mod(-1*x,n) \n",
    "    Ynovo = np.mod(-1*y,m)\n",
    "    Znovo = np.mod(-1*z,p)  \n",
    "\n",
    "    aux = np.conjugate(F[Xnovo,Ynovo,Znovo])\n",
    "\n",
    "    return (abs(F-aux)<10E-4).all()"
   ]
  },
  {
   "cell_type": "code",
   "execution_count": 7,
   "metadata": {
    "collapsed": false,
    "deletable": true,
    "editable": true
   },
   "outputs": [
    {
     "name": "stdout",
     "output_type": "stream",
     "text": [
      "[NbConvertApp] Converting notebook iaisdftsym.ipynb to python\n",
      "[NbConvertApp] Writing 3657 bytes to iaisdftsym.py\n"
     ]
    }
   ],
   "source": [
    "testing = (__name__ == \"__main__\")\n",
    "if testing:\n",
    "    import numpy as np\n",
    "    import sys,os\n",
    "    ! jupyter nbconvert --to 'python' iaisdftsym\n",
    "    %matplotlib inline\n",
    "    import matplotlib.image as mpimg\n",
    "    import matplotlib.pyplot as plt\n",
    "    ia898path = os.path.abspath('/home/lotufo')\n",
    "    if ia898path not in sys.path:\n",
    "        sys.path.append(ia898path)\n",
    "    import ia898.src as ia"
   ]
  },
  {
   "cell_type": "markdown",
   "metadata": {
    "deletable": true,
    "editable": true
   },
   "source": [
    "## Examples\n",
    "\n",
    "\n",
    "Numeric Example: 1D data"
   ]
  },
  {
   "cell_type": "code",
   "execution_count": 8,
   "metadata": {
    "collapsed": false,
    "deletable": true,
    "editable": true
   },
   "outputs": [
    {
     "name": "stdout",
     "output_type": "stream",
     "text": [
      "Is 1d odd dimension vetor symmetric? False \n",
      "\n",
      "Is 1d even dimension vetor symmetric? False \n",
      "\n",
      "Is 1d even dimension vetor symmetric? False \n",
      "\n"
     ]
    }
   ],
   "source": [
    "if testing:\n",
    "    F = np.arange(5)\n",
    "    print ('Is 1d odd dimension vetor symmetric?',iaisdftsym(F),'\\n')\n",
    "    F =  np.arange(6)\n",
    "    print ('Is 1d even dimension vetor symmetric?',iaisdftsym(F),'\\n')\n",
    "    F = np.array( [1j,1j,0,1j,1j] )\n",
    "    print ('Is 1d even dimension vetor symmetric?',iaisdftsym(F),'\\n')"
   ]
  },
  {
   "cell_type": "markdown",
   "metadata": {
    "deletable": true,
    "editable": true
   },
   "source": [
    "Numeric Example: real matrix"
   ]
  },
  {
   "cell_type": "code",
   "execution_count": 9,
   "metadata": {
    "collapsed": false,
    "deletable": true,
    "editable": true
   },
   "outputs": [
    {
     "name": "stdout",
     "output_type": "stream",
     "text": [
      "Is function F symmetric? True \n",
      "\n"
     ]
    }
   ],
   "source": [
    "if testing:\n",
    "    F = np.array( [ [0,1], \n",
    "                    [2,3] ] )\n",
    "    print ('Is function F symmetric?',iaisdftsym(F),'\\n')"
   ]
  },
  {
   "cell_type": "markdown",
   "metadata": {
    "deletable": true,
    "editable": true
   },
   "source": [
    "Numeric Example: imaginary matrix"
   ]
  },
  {
   "cell_type": "code",
   "execution_count": 10,
   "metadata": {
    "collapsed": false,
    "deletable": true,
    "editable": true
   },
   "outputs": [
    {
     "name": "stdout",
     "output_type": "stream",
     "text": [
      "Is function F symmetric? False \n",
      "\n",
      "Is function F symmetric? False \n",
      "\n"
     ]
    }
   ],
   "source": [
    "if testing:\n",
    "    F = np.array([ [2j,1j], \n",
    "                   [1j,2j] ] )\n",
    "    print('Is function F symmetric?',iaisdftsym(F),'\\n')\n",
    "\n",
    "    F = np.array( [ [ 2j,0, 1j], \n",
    "                    [-1j,0,-2j] ] )\n",
    "    print('Is function F symmetric?',iaisdftsym(F),'\\n')"
   ]
  },
  {
   "cell_type": "markdown",
   "metadata": {},
   "source": [
    "Numeric Example: complex matrix"
   ]
  },
  {
   "cell_type": "code",
   "execution_count": 11,
   "metadata": {
    "collapsed": false
   },
   "outputs": [
    {
     "name": "stdout",
     "output_type": "stream",
     "text": [
      "F=\n",
      " [[ 10.+0.j  20.+5.j  20.-5.j]\n",
      " [ 40.+3.j  60.+2.j  70.+4.j]\n",
      " [ 30.+0.j  50.+2.j  50.-2.j]\n",
      " [ 40.-3.j  70.-4.j  60.-2.j]]\n",
      "if F symmetrical? True\n"
     ]
    }
   ],
   "source": [
    "if testing:\n",
    "    F = np.array([[10+0j,20+5j,20-5j],\n",
    "                  [40+3j,60+2j,70+4j],\n",
    "                  [30+0j,50+2j,50-2j],\n",
    "                  [40-3j,70-4j,60-2j]])\n",
    "    print('F=\\n',F)\n",
    "    print('if F symmetrical?', iaisdftsym(F))"
   ]
  },
  {
   "cell_type": "markdown",
   "metadata": {
    "deletable": true,
    "editable": true
   },
   "source": [
    "Numeric Example: Fourier transformation of a real image is symmetric"
   ]
  },
  {
   "cell_type": "code",
   "execution_count": 37,
   "metadata": {
    "collapsed": false,
    "deletable": true,
    "editable": true
   },
   "outputs": [
    {
     "name": "stdout",
     "output_type": "stream",
     "text": [
      "Is this function symmetric?\n",
      "True\n",
      "True\n",
      "True\n"
     ]
    }
   ],
   "source": [
    "if testing:\n",
    "    print('Is this function symmetric?')\n",
    "    print(iaisdftsym(np.fft.fft2(np.random.rand(100,100)))) # dimension variation\n",
    "    print(iaisdftsym(np.fft.fft2(np.random.rand(101,100))))\n",
    "    print(iaisdftsym(np.fft.fft2(np.random.rand(101,101))))"
   ]
  },
  {
   "cell_type": "markdown",
   "metadata": {
    "deletable": true,
    "editable": true
   },
   "source": [
    "Image Example: circular filter"
   ]
  },
  {
   "cell_type": "code",
   "execution_count": 38,
   "metadata": {
    "collapsed": false,
    "deletable": true,
    "editable": true
   },
   "outputs": [
    {
     "name": "stdout",
     "output_type": "stream",
     "text": [
      "Is this filter symmetric? True\n"
     ]
    },
    {
     "data": {
      "text/html": [
       "<head><style>                table, th, td { border: 0px solid black;                text-align: center;border-collapse: collapse;}</style></head>                <body><table border=\"0\"><tr><td>                    <table><tr><td><img src='data:image/png;base64,iVBORw0KGgoAAAANSUhEUgAAAQAAAAEACAAAAAB5Gfe6AAACWUlEQVR4nO3awU4cQQwE0B7+/5+XQ6QAy0y3vRJ43Lx3yqFXqap4UQ4cj5F25D/yW/Jt3vJ/yY37v5DthQH2YoDqANUMUB2gmgGqA1QzQPoTd/5/0AvpXEB1gGoGqA5QLT3AvX8G5vO5gOoA1bID3P0bkE7oAnLP738A2YwuIPW6wwEkU7qAzOMeB5DL6QISb7scQCqpC4g/7XMAmazxATr1T6T1FYg+7HUA8bzRAbr1DycODtCvfzRzbICO/YOpQwP07B/LHRmga/9Q8sAAfftHsq8H6Nw/kH45QO/+6/yrAbr3XzY4pr9a2L/+GGP+65PTC9ik/7TH5AJ2qT/GmBzB5QBb1R/jcoKLAbarP8bFBKcDbFl/jNMJTgbYtv4YJxM8D7B1+3++Nv40wB/o/uFx8icAAAAAAAAAAAAAAAAAAAAAAAAAAAAAAAAAAAAAAAAAAAAAAAAAAOAnPaoDFDs+BjgKY/y6/7WPpwv4Ayt8bfw8wNh8g291TwbYeIKTsqcDbDrBadWLATac4KLo5QCbTXBZczLARhNMSr69+LlWpv/Ii5IbHMG84fQClp/uYNFgNUD7BVb5lwM0X2CZfj1A6wXW2QMDNF4gkDwyQNsFIrlDAzRdIJQ6NkDLBWKZgwM0XCCYODpAuwWiecMD7Co+QK8TCKdNXECnBeJZfQUSb/ucQCKpC8g87nICmZwuIPW6xwmkUrqA3PMOJ5DL6AKS7+9/AsmELqA6QLX0AHf/DmTzuYDqANUMUB2gWn6Ae/8UTKdzAdUBqhmgOkA1A1QHqGaA6gDV3gGIF06j9uGm+wAAAABJRU5ErkJggg=='/></td></tr>                    <tr><td align='center'>circular filter</td></tr></table></td><td>                    <table><tr><td><img src='data:image/png;base64,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'/></td></tr>                    <tr><td align='center'></td></tr></table></td><tr></tr></table></body>"
      ],
      "text/plain": [
       "<IPython.core.display.HTML object>"
      ]
     },
     "metadata": {},
     "output_type": "display_data"
    }
   ],
   "source": [
    "if testing:\n",
    "    img = mpimg.imread('/home/lotufo/ia898/data/cameraman.tif')\n",
    "    F = np.fft.fftn(img)\n",
    "    r1,c1 = np.indices(img.shape)\n",
    "    imgc = ((r1-img.shape[0]/2)**2/(50)**2) + ((c1-img.shape[1]/2)**2/(50)**2) <= 1\n",
    "    imgct = ia.ptrans(imgc, (imgc.shape[0]//2, imgc.shape[1]//2))\n",
    "    nb = ia.nbshow(2)\n",
    "    nb.nbshow(ia.normalize(imgct),'circular filter')\n",
    "    res = F * imgct\n",
    "    nb.nbshow(ia.dftview(res))\n",
    "    print('Is this filter symmetric?', iaisdftsym(res))\n",
    "    nb.nbshow()"
   ]
  },
  {
   "cell_type": "markdown",
   "metadata": {
    "deletable": true,
    "editable": true
   },
   "source": [
    "Image Example 2: retangular filter"
   ]
  },
  {
   "cell_type": "code",
   "execution_count": 39,
   "metadata": {
    "collapsed": false,
    "deletable": true,
    "editable": true
   },
   "outputs": [
    {
     "data": {
      "text/html": [
       "<head><style>                table, th, td { border: 0px solid black;                text-align: center;border-collapse: collapse;}</style></head>                <body><table border=\"0\"><tr><td>                    <table><tr><td><img src='data:image/png;base64,iVBORw0KGgoAAAANSUhEUgAAAQAAAAEACAAAAAB5Gfe6AAABIElEQVR4nO3Q0QmAQAwFQc/+e9YaAp6LOPMf2Ly1jqlrfPGe+TfnhopPMUAdUDNAHVAzQB1QM0AdUDNAHVAzQB1QM0AdUDNAHVAzQB1QM0AdUDNAHVAzQB1QM0AdUDNAHVAzQB1QM0AdUDNAHVAzQB1QM0AdUDNAHVAzQB1QM0AdUDNAHVAzQB0AAAAAAAAAAAAAAAAAAAAAAAAAAAAAAAAAAAAAAAAAAAAAAAAAAAD8w1rjk2tDxlPm35wbKj7FAHVAzQB1QM0AdUDNAHVAzQB1QM0AdUDNAHVAzQB1QM0AdUDNAHVAzQB1QM0AdUDNAHVAzQB1QM0AdUDNAHVAzQB1QM0AdUDNAHVAzQB1QM0AdUDNAHVAzQB1QM0AdUDtBqwSAsmeDfMpAAAAAElFTkSuQmCC'/></td></tr>                    <tr><td align='center'>RETANGULO</td></tr></table></td><td>                    <table><tr><td><img src='data:image/png;base64,iVBORw0KGgoAAAANSUhEUgAAAQAAAAEACAAAAAB5Gfe6AAABGUlEQVR4nO3QwQnAMBADQTv995w04E/gYDHMFCAWrQUAAAAAAAAAAAAAAAAAAAAAAADAffbs3Ds7dzSb/IyuXcgBdUDNAXVAzQF1QM0BdUDNAXVAzQF1QM0BdUDNAXVAzQF1QM0BdUDNAXVAzQF1QM0BdUDNAXVAzQF1QM0BdUDNAXVAzQF1QM0BdUDNAXVAzQF1QM0BdUDNAXVAzQF1QM0BdUDNAXVAzQF1QM0BdUDNAXVAzQF1QM0BdUDNAXVAzQF1QM0BdUDNAXVAzQF1QM0BdUDNAXVAzQF1QM0BdUDNAXVAzQF1QM0BdUDNAXVAzQF1QM0BdUDNAXVAzQF1QM0BdQAAAAAAAAAAAAAAAAAAAAAAAAAA/PcBiacByJY67m0AAAAASUVORK5CYII='/></td></tr>                    <tr><td align='center'>retangular filter</td></tr></table></td><tr></tr></table></body>"
      ],
      "text/plain": [
       "<IPython.core.display.HTML object>"
      ]
     },
     "metadata": {},
     "output_type": "display_data"
    },
    {
     "name": "stdout",
     "output_type": "stream",
     "text": [
      "Is this filter symmetric? False\n"
     ]
    }
   ],
   "source": [
    "if testing:\n",
    "    mquadra = np.zeros_like(img)\n",
    "    mquadra[:50,:50] = 1\n",
    "    mquadra[-50:,:50] = 1\n",
    "    mquadra[:50,-50:] = 1\n",
    "    mquadra[-50:,-50:] = 1\n",
    "\n",
    "    nb.nbshow(mquadra,'RETANGULO')\n",
    "    mquadra = ia.ptrans(mquadra, (mquadra.shape[0]//2,mquadra.shape[1]//2))\n",
    "    nb.nbshow(ia.normalize(mquadra),'retangular filter')\n",
    "    mfiltrada = F * mquadra                                        \n",
    "    nb.nbshow()\n",
    "    print('Is this filter symmetric?', iaisdftsym(mfiltrada))"
   ]
  },
  {
   "cell_type": "markdown",
   "metadata": {
    "deletable": true,
    "editable": true
   },
   "source": [
    "Equation"
   ]
  },
  {
   "cell_type": "markdown",
   "metadata": {
    "deletable": true,
    "editable": true
   },
   "source": [
    "$$ \\begin{matrix}\n",
    "   F(s,u,v) = F^{\\star}(-s \\ mod\\ P,-u \\ mod\\ N, -v \\ mod\\ M) \\\\ (0,0,0) \\leq (s,u,v) < (P,N,M)\n",
    "   \\end{matrix}\n",
    "$$"
   ]
  },
  {
   "cell_type": "markdown",
   "metadata": {
    "deletable": true,
    "editable": true
   },
   "source": [
    "## See also\n",
    "\n",
    "- `iadftview`\n",
    "\n",
    "## Contributions\n",
    "\n",
    "- Mariana Pinheiro, 1st semester 2011\n",
    "- Leonardo Bianconi, 1st semester 2017"
   ]
  }
 ],
 "metadata": {
  "kernelspec": {
   "display_name": "Python 3",
   "language": "python",
   "name": "python3"
  },
  "language_info": {
   "codemirror_mode": {
    "name": "ipython",
    "version": 3
   },
   "file_extension": ".py",
   "mimetype": "text/x-python",
   "name": "python",
   "nbconvert_exporter": "python",
   "pygments_lexer": "ipython3",
   "version": "3.6.0"
  }
 },
 "nbformat": 4,
 "nbformat_minor": 2
}
