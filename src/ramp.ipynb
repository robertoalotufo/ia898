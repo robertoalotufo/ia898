{
 "cells": [
  {
   "cell_type": "markdown",
   "metadata": {
    "deletable": true,
    "editable": true
   },
   "source": [
    "# Function ramp\n",
    "\n",
    "## Description\n",
    "\n",
    "Create an 1, 2 or 3-dimensional image with increasing gray value bands. The function receives the output dimension, the number of increasing bands, and the range of values variation in each direction. \n",
    "\n",
    "## Synopse\n",
    "\n",
    "\n",
    "Creates a 1D/2D/3D gray scale image with dimensions given by s, with n increasing gray scale bands with values varying from the specified range\n",
    "\n",
    "- **g = ramp(s, n, range)**\n",
    "\n",
    "  - **g**: Image. \n",
    "\n",
    "\n",
    "  - **s**: [S H W]: slices, height and width output image dimensions.\n",
    "  - **n**: [nz ny nx]: number of bands.\n",
    "  - **range**:  [kz_min, kz_max,ky_min,ky_max,kx_min,kx_max], minimum and maximum gray scale values on z,y and x dimension."
   ]
  },
  {
   "cell_type": "code",
   "execution_count": 70,
   "metadata": {
    "collapsed": true,
    "deletable": true,
    "editable": true
   },
   "outputs": [],
   "source": [
    "from numpy import *\n",
    "\n",
    "def ramp(s, n, range=[0,255]):\n",
    "    aux = array(n)\n",
    "    s_orig = s\n",
    "\n",
    "    if len(aux.shape) == 0:\n",
    "        s = [1,s[0],s[1]]\n",
    "        n = [0,0,n]\n",
    "        range = [0,0,0,0,range[0],range[1]]\n",
    "\n",
    "    slices,rows, cols = s[0], s[1], s[2]\n",
    "    z,y,x = indices((slices,rows,cols))\n",
    "    gz = z*n[0]//slices * (range[1]-range[0]) // (n[0]-1) + range[0]\n",
    "    gy = y*n[1]//rows * (range[3]-range[2]) // (n[1]-1) + range[2]\n",
    "    gx = x*n[2]//cols * (range[5]-range[4]) // (n[2]-1) + range[4]\n",
    "    return (gz+gy+gx).reshape(s_orig)"
   ]
  },
  {
   "cell_type": "code",
   "execution_count": 71,
   "metadata": {
    "collapsed": false,
    "deletable": true,
    "editable": true
   },
   "outputs": [
    {
     "name": "stdout",
     "output_type": "stream",
     "text": [
      "[NbConvertApp] Converting notebook ramp.ipynb to python\n",
      "[NbConvertApp] Writing 3674 bytes to ramp.py\n"
     ]
    }
   ],
   "source": [
    "testing = (__name__ == \"__main__\")\n",
    "if testing:\n",
    "    import numpy as np\n",
    "    import sys,os\n",
    "    ! jupyter nbconvert --to 'python' ramp\n",
    "    %matplotlib inline\n",
    "    import matplotlib.image as mpimg\n",
    "    import matplotlib.pyplot as plt\n",
    "    ia898path = os.path.abspath('/home/lotufo')\n",
    "    if ia898path not in sys.path:\n",
    "        sys.path.append(ia898path)\n",
    "    import ia898.src as ia"
   ]
  },
  {
   "cell_type": "markdown",
   "metadata": {
    "deletable": true,
    "editable": true
   },
   "source": [
    "## Examples\n",
    "\n",
    "\n",
    "Numeric example"
   ]
  },
  {
   "cell_type": "code",
   "execution_count": 72,
   "metadata": {
    "collapsed": false,
    "deletable": true,
    "editable": true
   },
   "outputs": [
    {
     "name": "stdout",
     "output_type": "stream",
     "text": [
      "[[ 4  4  4  7  7 10 10]\n",
      " [ 4  4  4  7  7 10 10]\n",
      " [ 4  4  4  7  7 10 10]\n",
      " [ 4  4  4  7  7 10 10]\n",
      " [ 4  4  4  7  7 10 10]]\n",
      "\n",
      "\n",
      "[[[ 4  4  4  4  4  4  4]\n",
      "  [ 4  4  4  4  4  4  4]\n",
      "  [ 7  7  7  7  7  7  7]\n",
      "  [ 7  7  7  7  7  7  7]\n",
      "  [10 10 10 10 10 10 10]]]\n",
      "\n",
      "\n",
      "[[[4 4 4 4 4 4 4]\n",
      "  [4 4 4 4 4 4 4]\n",
      "  [4 4 4 4 4 4 4]\n",
      "  [4 4 4 4 4 4 4]\n",
      "  [4 4 4 4 4 4 4]]]\n"
     ]
    }
   ],
   "source": [
    "if testing:    \n",
    "    F = ramp([5,7], 3, [4,10])\n",
    "    print(F)\n",
    "    print()\n",
    "    print()\n",
    "    F = ramp((1,5,7),(0,3,0), [0,0,4,10,0,0])\n",
    "    print(F)\n",
    "    print()\n",
    "    print()\n",
    "    F = ramp([1,5,7],[3,0,0], [4,10,0,0,0,0])\n",
    "    print(F)"
   ]
  },
  {
   "cell_type": "markdown",
   "metadata": {
    "deletable": true,
    "editable": true
   },
   "source": [
    "Image example"
   ]
  },
  {
   "cell_type": "code",
   "execution_count": 73,
   "metadata": {
    "collapsed": false,
    "deletable": true,
    "editable": true
   },
   "outputs": [
    {
     "data": {
      "text/html": [
       "<head><style>                table, th, td { border: 0px solid black;                text-align: center;border-collapse: collapse;}</style></head>                <body><table border=\"0\"><tr><td>                    <table><tr><td><img src='data:image/png;base64,iVBORw0KGgoAAAANSUhEUgAAASwAAADICAAAAAB3tIOJAAABt0lEQVR4nO3QMQrAIAAEQeM7zP+/mdpGWNLJTHtwxT7jaP1Y3+ue53FlI1YgViBWIFYgViBWIFYgViBWIFYgViBWIFYgViBWIFYgViBWIFYgViBWIFYgViBWIFYgViBWIFYgViBWIFYgViBWIFYgViBWIFYgViBWIFYgViBWIFYgViBWIFYgViBWIFYgViBWIFYgViBWIFYgViBWIFYgViBWIFYgViBWIFYgViBWIFYgViBWIFYgViBWIFYgViBWIFYgViBWIFYgViBWIFYgViBWIFYgViBWIFYgViBWIFYgViBWIFYgViBWIFYgViBWIFYgViBWIFYgViBWIFYgViBWIFYgViBWIFYgViBWIFYgViBWIFYgViBWIFYgViBWIFYgViBWIFYgViBWIFYgViBWIFYgViBWIFYgViBWIFYgViBWIFYgViBWIFYgViBWIFYgViBWIFYgViBWIFYgViBWIFYgViBWIFYgViBWIFYgViBWIFYgViBWIFYgViBWIFYgViBWIFYgViBWIFYgViBWIFYgViBWIFYgViBWIFYgViBWIFYgViBWIFYgViBWIFYgViBW8AFg+wKPiqYyyAAAAABJRU5ErkJggg=='/></td></tr>                    <tr><td align='center'></td></tr></table></td></tr></table></body>"
      ],
      "text/plain": [
       "<IPython.core.display.HTML object>"
      ]
     },
     "metadata": {},
     "output_type": "display_data"
    }
   ],
   "source": [
    "if testing:\n",
    "    F = ramp([200,300], 10, [0,255])\n",
    "    nb.nbshow(ia.normalize(F))\n",
    "    nb.nbshow()"
   ]
  },
  {
   "cell_type": "markdown",
   "metadata": {
    "deletable": true,
    "editable": true
   },
   "source": [
    "Image example - 3D"
   ]
  },
  {
   "cell_type": "code",
   "execution_count": 53,
   "metadata": {
    "collapsed": false,
    "deletable": true,
    "editable": true
   },
   "outputs": [
    {
     "name": "stdout",
     "output_type": "stream",
     "text": [
      "\n",
      "\n"
     ]
    },
    {
     "data": {
      "text/html": [
       "<head><style>                table, th, td { border: 0px solid black;                text-align: center;border-collapse: collapse;}</style></head>                <body><table border=\"0\"><tr><td>                    <table><tr><td><img src='data:image/png;base64,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'/></td></tr>                    <tr><td align='center'></td></tr></table></td><td>                    <table><tr><td><img src='data:image/png;base64,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'/></td></tr>                    <tr><td align='center'></td></tr></table></td><td>                    <table><tr><td><img src='data:image/png;base64,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'/></td></tr>                    <tr><td align='center'></td></tr></table></td><tr></tr></table></body>"
      ],
      "text/plain": [
       "<IPython.core.display.HTML object>"
      ]
     },
     "metadata": {},
     "output_type": "display_data"
    }
   ],
   "source": [
    "if testing:\n",
    "    F = ramp([50,100,200], [20,10,0], [0,255,0,255,0,0])\n",
    "    nb = ia.nbshow(3)\n",
    "    nb.nbshow(ia.normalize(ia.mosaic(F,10)))\n",
    "    print()\n",
    "    F = ramp([50,100,200], [20,0,10], [0,255,0,0,0,255])\n",
    "    nb.nbshow(ia.normalize(ia.mosaic(F, 10)))\n",
    "    print()\n",
    "    F = ramp([50,100,200], [0,10,20], [0,0,0,255,0,255])\n",
    "    nb.nbshow(ia.normalize(ia.mosaic(F, 10)))\n",
    "    nb.nbshow()"
   ]
  },
  {
   "cell_type": "markdown",
   "metadata": {
    "deletable": true,
    "editable": true
   },
   "source": [
    "Image example 2 - 3D"
   ]
  },
  {
   "cell_type": "code",
   "execution_count": 54,
   "metadata": {
    "collapsed": false,
    "deletable": true,
    "editable": true
   },
   "outputs": [
    {
     "data": {
      "text/html": [
       "<head><style>                table, th, td { border: 0px solid black;                text-align: center;border-collapse: collapse;}</style></head>                <body><table border=\"0\"><tr><td>                    <table><tr><td><img src='data:image/png;base64,iVBORw0KGgoAAAANSUhEUgAAASwAAAAUCAAAAAASSF/dAAAAo0lEQVR4nO2UQQ6AIAwEleL/P6P/82oDLDQbYtIsNzBDt+ngeRT7Lr+zu3NW/NceVszMHoadp2LYYSrM1grhCmNd+GqWHaZiWJxqwiZsCbLMgOv1U2HM4lQMO0mFWZnVpBrXlVkuFWZlVpNqXDdfSxsHnPCxYFZmBVmZtcjKrCArsxZZmRVkKbNytQRZasD5Hsu+X4fMcluZ5ZbMCrAyK8AyZr0WbUxgI2SHMAAAAABJRU5ErkJggg=='/></td></tr>                    <tr><td align='center'></td></tr></table></td><td>                    <table><tr><td><img src='data:image/png;base64,iVBORw0KGgoAAAANSUhEUgAAASwAAAAUCAAAAAASSF/dAAAAjklEQVR4nO2WUQqAIBBEp/AKef//LmE361fYDB9bH8K8jyVcJmVYBzdJko5QqyTpfO22T7W1+47avtsG61Ebu1fizLvMNDYLYLMAJd5P11H1ZAFsFsBmAR4yK75N/u5S1ft/6C7zu3uyADYLYLMAJZ84a+VORuXJAtgsgM0ClEx2rJg7mTN7sgA2C2CzADeqYhpq5sjIpwAAAABJRU5ErkJggg=='/></td></tr>                    <tr><td align='center'></td></tr></table></td><td>                    <table><tr><td><img src='data:image/png;base64,iVBORw0KGgoAAAANSUhEUgAAASwAAAAUCAAAAAASSF/dAAAAdklEQVR4nO3XsQmAMBBA0VMyhllAR3cf57HwmoAEf3UW/zWJXBM+geASaRuW6M9yFk3/eao19JmxAGMBxgKMBRgLaHtu8pXs42fVNKbTqlN5swBjAcYCjAUYCzAW0I7cvP9nX0XTmE6rTuXNAowFGAswFmAs4AZETBfP7gaksAAAAABJRU5ErkJggg=='/></td></tr>                    <tr><td align='center'></td></tr></table></td><tr></tr></table></body>"
      ],
      "text/plain": [
       "<IPython.core.display.HTML object>"
      ]
     },
     "metadata": {},
     "output_type": "display_data"
    }
   ],
   "source": [
    "if testing:\n",
    "    F = ramp([10,20,30], [10,20,30], [0,255,0,255,0,255])\n",
    "    nb = ia.nbshow(3)\n",
    "    nb.nbshow(ia.normalize(ia.mosaic(F, 10)))\n",
    "    print\n",
    "    F = ramp([10,20,30], [5,5,5], [0,255,0,255,0,255])\n",
    "    nb.nbshow(ia.normalize(ia.mosaic(F, 10)))\n",
    "    print\n",
    "    F = ramp([10,20,30], [2,3,4], [0,255,0,255,0,255])\n",
    "    nb.nbshow(ia.normalize(ia.mosaic(F, 10)))\n",
    "    nb.nbshow()"
   ]
  },
  {
   "cell_type": "markdown",
   "metadata": {
    "deletable": true,
    "editable": true
   },
   "source": [
    "## Equation"
   ]
  },
  {
   "cell_type": "markdown",
   "metadata": {
    "deletable": true,
    "editable": true
   },
   "source": [
    "$$\n",
    "g(z,y,x) =  \\lfloor \\lfloor \\frac{n_z}{S} z \\rfloor \\frac{kz_{max}-kz_{min}}{n_z-1} \\rfloor + kz_{min} +\\lfloor \\lfloor \\frac{n_y}{H} y \\rfloor \\frac{ky_{max}-ky_{min}}{n_y-1} \\rfloor + ky_{min} + \\lfloor \\lfloor \\frac{n_x}{W} x \\rfloor \\frac{kx_{max}-kx_{min}}{n_x-1} \\rfloor + kx_{min}\n",
    "$$"
   ]
  },
  {
   "cell_type": "code",
   "execution_count": 74,
   "metadata": {
    "collapsed": false,
    "deletable": true,
    "editable": true
   },
   "outputs": [
    {
     "name": "stdout",
     "output_type": "stream",
     "text": [
      "testing ramp\n",
      "True\n"
     ]
    }
   ],
   "source": [
    "if testing:\n",
    "    print('testing ramp')\n",
    "    print(repr(ramp([5,7],3,[5,10])) == repr(array(\n",
    "          [[5, 5, 5, 7, 7, 10, 10],\n",
    "           [5, 5, 5, 7, 7, 10, 10],\n",
    "           [5, 5, 5, 7, 7, 10, 10],\n",
    "           [5, 5, 5, 7, 7, 10, 10],\n",
    "           [5, 5, 5, 7, 7, 10, 10]])))"
   ]
  },
  {
   "cell_type": "markdown",
   "metadata": {
    "deletable": true,
    "editable": true
   },
   "source": [
    "## Contributions\n",
    "\n",
    "- Mariana Pinheiro, 1st semester 2011\n",
    "- Leonardo Bianconi, 1st semester 2017"
   ]
  }
 ],
 "metadata": {
  "kernelspec": {
   "display_name": "Python 3",
   "language": "python",
   "name": "python3"
  },
  "language_info": {
   "codemirror_mode": {
    "name": "ipython",
    "version": 3
   },
   "file_extension": ".py",
   "mimetype": "text/x-python",
   "name": "python",
   "nbconvert_exporter": "python",
   "pygments_lexer": "ipython3",
   "version": "3.6.0"
  }
 },
 "nbformat": 4,
 "nbformat_minor": 2
}
