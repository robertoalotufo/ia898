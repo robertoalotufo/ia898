{
 "cells": [
  {
   "cell_type": "markdown",
   "metadata": {},
   "source": [
    "# IA898 - Processamento de Imagens Digitais\n",
    "## Segundo semestre de 2018\n",
    "*Leticia Rittner*\n"
   ]
  },
  {
   "cell_type": "markdown",
   "metadata": {},
   "source": [
    "## Conteúdo\n",
    "\n",
    "### Introdução ao Processamento de Imagens\n",
    "\n",
    "1. [Overview](01 Processamento Imagens.ipynb)\n",
    "\n",
    "### Introdução às Imagens digitais\n",
    "    \n",
    "1. [Introdução ao NumPy](02 Aprendendo Numpy.ipynb) \n",
    "2. [Manipulando imagens: abrir, salvar, visualizar, criar](03 Lendo e Visualizando Imagens.ipynb) \n",
    "3. [Geração de imagens sintéticas](04 Gerando imagens sinteticas.ipynb) \t\n",
    "\n",
    "### Transformações radiométricas (ponto-a-ponto)\n",
    "\n",
    "1. [Histograma da Imagem](05 Histograma da imagem.ipynb)\n",
    "2. [Transformação de Intensidade](../master/tutorial_ti_2.ipynb)\n",
    "3. [Tutorial sobre equalização de histograma](../master/tutorial_hist_eq_2.ipynb)\n",
    "4. [Tutorial equalização de histograma por montagem de mosaico](../master/tutorial_pehist_1.ipynb)\n",
    "5. Transformações em cores \n",
    "\n",
    "### Transformações espaciais (vizinhança)\n",
    "\n",
    "1. Convolução\n",
    "2. Filtros espaciais\n",
    "3. Tratamento de bordas\n",
    "\n",
    "### Transformada de Fourier\n",
    "\n",
    "1. Transformada de Fourier (FFT)\n",
    "2. Entendendo a FFT\n",
    "3. Visualizando a FFT\n",
    "4. Filtros em frequência\n",
    "5. Correlação de fase\n",
    "\n",
    "### Segmentação\n",
    "\n",
    "1. Otsu\n",
    "2. Watershed\n"
   ]
  },
  {
   "cell_type": "markdown",
   "metadata": {},
   "source": [
    "## Enunciados dos exercícios\n",
    "\n",
    "- [Exercício 1 - Aprendendo Numpy](Ex01 Aprendendo Numpy.ipynb)\n",
    "- [Exercício 2 - Resolução espacial e radiométrica](Ex02 Resolucao espacial e radiometrica.ipynb)\n",
    "- [Exercício 3 - Transformação de intensidade, realce e equalização de histograma](Ex03 Transformacao de intensidade.ipynb)"
   ]
  },
  {
   "cell_type": "markdown",
   "metadata": {},
   "source": [
    "## Links úteis\n",
    "\n",
    "- [Jupyter Notebook - documentação](http://jupyter-notebook.readthedocs.io/en/latest/notebook.html)\n",
    "- [Jupyter notebook - tips and tricks](https://www.dataquest.io/blog/jupyter-notebook-tips-tricks-shortcuts/)\n",
    "- [Tutorial breve - Python](../deliver/tutorial-python.ipynb)\n",
    "- [Tutorial breve - NumPy](../deliver/tutorial-numpy.ipynb)"
   ]
  }
 ],
 "metadata": {
  "anaconda-cloud": {},
  "kernelspec": {
   "display_name": "Python 3",
   "language": "python",
   "name": "python3"
  },
  "language_info": {
   "codemirror_mode": {
    "name": "ipython",
    "version": 3
   },
   "file_extension": ".py",
   "mimetype": "text/x-python",
   "name": "python",
   "nbconvert_exporter": "python",
   "pygments_lexer": "ipython3",
   "version": "3.6.1"
  }
 },
 "nbformat": 4,
 "nbformat_minor": 1
}
